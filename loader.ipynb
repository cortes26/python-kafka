{
 "cells": [
  {
   "cell_type": "code",
   "execution_count": 1,
   "metadata": {},
   "outputs": [],
   "source": [
    "from configparser import ConfigParser\n",
    "from sqlalchemy import create_engine\n",
    "import pandas as pd\n",
    "import json\n",
    "\n",
    "import constants as const"
   ]
  },
  {
   "cell_type": "markdown",
   "metadata": {},
   "source": [
    "Functions"
   ]
  },
  {
   "cell_type": "code",
   "execution_count": 2,
   "metadata": {},
   "outputs": [],
   "source": [
    "def config(filename):\n",
    "    # create a parser\n",
    "    parser = ConfigParser()\n",
    "    # read config file\n",
    "    parser.read(filename)\n",
    "\n",
    "    defaults = {}\n",
    "\n",
    "    if parser.has_section(const.DEFAULT_SECTION):\n",
    "        params = parser.items(const.DEFAULT_SECTION)\n",
    "        # checking if all default configurations appears in file\n",
    "        for [k, section] in params:\n",
    "            defaults[k] = section\n",
    "            if (not parser.has_section(section)):\n",
    "                raise Exception(\n",
    "                    f\"Defualt section '{section}' not found in '{filename}' file\")\n",
    "\n",
    "    else:\n",
    "        raise Exception(\n",
    "            f\"Default section not in configuration'{filename}' file\")\n",
    "\n",
    "    return (parser, defaults)\n"
   ]
  },
  {
   "cell_type": "code",
   "execution_count": 3,
   "metadata": {},
   "outputs": [],
   "source": [
    "def db_config(parser, database_section):\n",
    "    \"\"\"Rescues database configuration from settings file\"\"\"\n",
    "\n",
    "    # get section, default to postgresql\n",
    "    config = {}\n",
    "\n",
    "    if parser.has_section(database_section):\n",
    "        params = parser.items(database_section)\n",
    "        for [k, v] in params:\n",
    "            config[k] = v\n",
    "    else:\n",
    "        raise Exception(\n",
    "            'Section {0} not found'.format(database_section))\n",
    "\n",
    "    return config\n"
   ]
  },
  {
   "cell_type": "code",
   "execution_count": 4,
   "metadata": {},
   "outputs": [],
   "source": [
    "def connect_str(params, database_name):\n",
    "    \"\"\" Connect to configured database \"\"\"\n",
    "\n",
    "    if (database_name == const.POSTGRE):\n",
    "        return \"postgresql://{username}:{password}@{ipaddress}:{port}/{dbname}\".format(**params)"
   ]
  },
  {
   "cell_type": "code",
   "execution_count": 6,
   "metadata": {},
   "outputs": [],
   "source": [
    "def is_development_env(parser):\n",
    "    \"\"\"Tries to find default configuration\n",
    "\n",
    "        if it's not present returns true\n",
    "    \"\"\"\n",
    "    if parser.has_section(const.ENVIRONMENT_SECTION):\n",
    "        params = parser.items(const.ENVIRONMENT_SECTION)\n",
    "        map = dict(params)\n",
    "        if const.DEVELOP_CONF in map:\n",
    "            return map[const.DEVELOP_CONF].lower() in ['true', '1', 't', 'y', 'yes', 'yeah', 'yup', 'certainly', 'uh-huh', 'si', 'Si', 'Sí', 'sí']\n",
    "        else:\n",
    "            False\n",
    "    return True"
   ]
  },
  {
   "cell_type": "code",
   "execution_count": 7,
   "metadata": {},
   "outputs": [
    {
     "data": {
      "text/plain": [
       "True"
      ]
     },
     "execution_count": 7,
     "metadata": {},
     "output_type": "execute_result"
    }
   ],
   "source": [
    "parser, defaults = config(const.CONFIG_FILE)\n",
    "db_name = defaults[const.DATABASE_CONF]\n",
    "\n",
    "is_development_env(parser)"
   ]
  },
  {
   "cell_type": "markdown",
   "metadata": {},
   "source": [
    "Connecting to remote database"
   ]
  },
  {
   "cell_type": "code",
   "execution_count": null,
   "metadata": {},
   "outputs": [],
   "source": [
    "conn = None\n",
    "\n",
    "# get database section configuration using db name & file parsed\n",
    "params = db_config(parser, db_name)\n",
    "# get a connection using a factory function\n",
    "db_str = connect_str(params, db_name)\n",
    "# create connection\n",
    "cnx = create_engine(db_str)\n",
    "\n",
    "df = pd.read_sql_query('''SELECT * FROM contenidors_fcc_out''', con=cnx)\n",
    "\n",
    "df"
   ]
  },
  {
   "cell_type": "code",
   "execution_count": null,
   "metadata": {},
   "outputs": [],
   "source": [
    "to_send = df.to_json(orient='records')\n",
    "parsed = json.loads(to_send)\n",
    "json_string = json.dumps(parsed, indent=4)  \n",
    "\n",
    "\n",
    "with open('json_data.json', 'w') as out:\n",
    "    out.write(json_string)"
   ]
  },
  {
   "cell_type": "code",
   "execution_count": null,
   "metadata": {},
   "outputs": [],
   "source": [
    "sss = 'nfosnfosf'"
   ]
  }
 ],
 "metadata": {
  "interpreter": {
   "hash": "a4f9142d4c28fe23483cb6922223b395842e86aff0fa2a976ffd2b4ec482a807"
  },
  "kernelspec": {
   "display_name": "Python 3.9.7 64-bit",
   "language": "python",
   "name": "python3"
  },
  "language_info": {
   "codemirror_mode": {
    "name": "ipython",
    "version": 3
   },
   "file_extension": ".py",
   "mimetype": "text/x-python",
   "name": "python",
   "nbconvert_exporter": "python",
   "pygments_lexer": "ipython3",
   "version": "3.9.7"
  },
  "orig_nbformat": 4
 },
 "nbformat": 4,
 "nbformat_minor": 2
}
